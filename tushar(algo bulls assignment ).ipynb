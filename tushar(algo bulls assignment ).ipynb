{
 "cells": [
  {
   "cell_type": "code",
   "execution_count": 1,
   "id": "e35d8715",
   "metadata": {},
   "outputs": [
    {
     "name": "stdout",
     "output_type": "stream",
     "text": [
      "Requirement already satisfied: pandas in c:\\users\\shivam singh\\anaconda3\\lib\\site-packages (1.5.3)\n",
      "Requirement already satisfied: requests in c:\\users\\shivam singh\\anaconda3\\lib\\site-packages (2.28.1)\n",
      "Requirement already satisfied: numpy>=1.21.0 in c:\\users\\shivam singh\\anaconda3\\lib\\site-packages (from pandas) (1.23.5)\n",
      "Requirement already satisfied: pytz>=2020.1 in c:\\users\\shivam singh\\anaconda3\\lib\\site-packages (from pandas) (2022.7)\n",
      "Requirement already satisfied: python-dateutil>=2.8.1 in c:\\users\\shivam singh\\anaconda3\\lib\\site-packages (from pandas) (2.8.2)\n",
      "Requirement already satisfied: certifi>=2017.4.17 in c:\\users\\shivam singh\\anaconda3\\lib\\site-packages (from requests) (2022.12.7)\n",
      "Requirement already satisfied: idna<4,>=2.5 in c:\\users\\shivam singh\\anaconda3\\lib\\site-packages (from requests) (3.4)\n",
      "Requirement already satisfied: charset-normalizer<3,>=2 in c:\\users\\shivam singh\\anaconda3\\lib\\site-packages (from requests) (2.0.4)\n",
      "Requirement already satisfied: urllib3<1.27,>=1.21.1 in c:\\users\\shivam singh\\anaconda3\\lib\\site-packages (from requests) (1.26.14)\n",
      "Requirement already satisfied: six>=1.5 in c:\\users\\shivam singh\\anaconda3\\lib\\site-packages (from python-dateutil>=2.8.1->pandas) (1.16.0)\n"
     ]
    }
   ],
   "source": [
    "!pip install pandas requests"
   ]
  },
  {
   "cell_type": "code",
   "execution_count": 2,
   "id": "fbc54c36",
   "metadata": {},
   "outputs": [],
   "source": [
    "import pandas as pd\n",
    "import requests"
   ]
  },
  {
   "cell_type": "code",
   "execution_count": 3,
   "id": "329f1604",
   "metadata": {},
   "outputs": [],
   "source": [
    "class ScriptData:\n",
    "    def __init__(self, api_key):\n",
    "        self.api_key = api_key\n",
    "\n",
    "    def fetch_intraday_data(self, script):\n",
    "        url = f\"https://www.alphavantage.co/query?function=TIME_SERIES_INTRADAY&symbol={script}&interval=1min&apikey={self.api_key}\"\n",
    "        response = requests.get(url)\n",
    "        data = response.json()\n",
    "        self.data = data['Time Series (1min)']\n",
    "\n",
    "    def convert_intraday_data(self, script):\n",
    "        timestamps = []\n",
    "        opens = []\n",
    "        highs = []\n",
    "        lows = []\n",
    "        closes = []\n",
    "        volumes = []\n",
    "\n",
    "        for timestamp, values in self.data.items():\n",
    "            timestamps.append(pd.Timestamp(timestamp))\n",
    "            opens.append(float(values['1. open']))\n",
    "            highs.append(float(values['2. high']))\n",
    "            lows.append(float(values['3. low']))\n",
    "            closes.append(float(values['4. close']))\n",
    "            volumes.append(int(values['5. volume']))\n",
    "\n",
    "        df = pd.DataFrame({\n",
    "            'timestamp': timestamps,\n",
    "            'open': opens,\n",
    "            'high': highs,\n",
    "            'low': lows,\n",
    "            'close': closes,\n",
    "            'volume': volumes\n",
    "        })\n",
    "\n",
    "        return df\n",
    "\n",
    "    def __getitem__(self, key):\n",
    "        return self.data[key]\n",
    "\n",
    "    def __setitem__(self, key, value):\n",
    "        self.data[key] = value\n",
    "\n",
    "    def __contains__(self, key):\n",
    "        return key in self.data\n"
   ]
  },
  {
   "cell_type": "code",
   "execution_count": 4,
   "id": "b51a9c3f",
   "metadata": {},
   "outputs": [],
   "source": [
    "api_key = 'YU96OF176FT5M6LA'  # Replace with your actual API key\n",
    "script_data = ScriptData(api_key)"
   ]
  },
  {
   "cell_type": "code",
   "execution_count": 5,
   "id": "e106a20d",
   "metadata": {},
   "outputs": [],
   "source": [
    "script_data.fetch_intraday_data('GOOGL')"
   ]
  },
  {
   "cell_type": "code",
   "execution_count": 6,
   "id": "4e33a8ba",
   "metadata": {},
   "outputs": [],
   "source": [
    "df = script_data.convert_intraday_data('GOOGL')"
   ]
  },
  {
   "cell_type": "code",
   "execution_count": 8,
   "id": "091ff2b8",
   "metadata": {},
   "outputs": [
    {
     "name": "stdout",
     "output_type": "stream",
     "text": [
      "dict_keys(['2023-06-14 19:59:00', '2023-06-14 19:52:00', '2023-06-14 19:51:00', '2023-06-14 19:42:00', '2023-06-14 19:40:00', '2023-06-14 19:38:00', '2023-06-14 19:35:00', '2023-06-14 19:29:00', '2023-06-14 19:22:00', '2023-06-14 19:09:00', '2023-06-14 19:07:00', '2023-06-14 19:05:00', '2023-06-14 19:00:00', '2023-06-14 18:55:00', '2023-06-14 18:48:00', '2023-06-14 18:41:00', '2023-06-14 18:36:00', '2023-06-14 18:32:00', '2023-06-14 18:30:00', '2023-06-14 18:28:00', '2023-06-14 18:23:00', '2023-06-14 18:22:00', '2023-06-14 18:21:00', '2023-06-14 18:15:00', '2023-06-14 18:13:00', '2023-06-14 18:12:00', '2023-06-14 18:11:00', '2023-06-14 18:09:00', '2023-06-14 18:07:00', '2023-06-14 18:04:00', '2023-06-14 18:00:00', '2023-06-14 17:59:00', '2023-06-14 17:57:00', '2023-06-14 17:55:00', '2023-06-14 17:48:00', '2023-06-14 17:44:00', '2023-06-14 17:39:00', '2023-06-14 17:37:00', '2023-06-14 17:36:00', '2023-06-14 17:32:00', '2023-06-14 17:29:00', '2023-06-14 17:27:00', '2023-06-14 17:24:00', '2023-06-14 17:23:00', '2023-06-14 17:22:00', '2023-06-14 17:21:00', '2023-06-14 17:17:00', '2023-06-14 17:16:00', '2023-06-14 17:04:00', '2023-06-14 17:02:00', '2023-06-14 17:01:00', '2023-06-14 17:00:00', '2023-06-14 16:58:00', '2023-06-14 16:57:00', '2023-06-14 16:56:00', '2023-06-14 16:55:00', '2023-06-14 16:54:00', '2023-06-14 16:52:00', '2023-06-14 16:50:00', '2023-06-14 16:49:00', '2023-06-14 16:48:00', '2023-06-14 16:47:00', '2023-06-14 16:46:00', '2023-06-14 16:44:00', '2023-06-14 16:43:00', '2023-06-14 16:41:00', '2023-06-14 16:40:00', '2023-06-14 16:39:00', '2023-06-14 16:38:00', '2023-06-14 16:37:00', '2023-06-14 16:36:00', '2023-06-14 16:34:00', '2023-06-14 16:33:00', '2023-06-14 16:32:00', '2023-06-14 16:31:00', '2023-06-14 16:30:00', '2023-06-14 16:29:00', '2023-06-14 16:27:00', '2023-06-14 16:26:00', '2023-06-14 16:24:00', '2023-06-14 16:21:00', '2023-06-14 16:20:00', '2023-06-14 16:18:00', '2023-06-14 16:17:00', '2023-06-14 16:16:00', '2023-06-14 16:15:00', '2023-06-14 16:14:00', '2023-06-14 16:13:00', '2023-06-14 16:12:00', '2023-06-14 16:11:00', '2023-06-14 16:08:00', '2023-06-14 16:07:00', '2023-06-14 16:06:00', '2023-06-14 16:05:00', '2023-06-14 16:04:00', '2023-06-14 16:03:00', '2023-06-14 16:02:00', '2023-06-14 16:01:00', '2023-06-14 16:00:00', '2023-06-14 15:59:00'])\n"
     ]
    }
   ],
   "source": [
    "# Fetch and store intraday data\n",
    "script_data.fetch_intraday_data('GOOGL')\n",
    "\n",
    "# Print available timestamps\n",
    "print(script_data.data.keys())"
   ]
  },
  {
   "cell_type": "code",
   "execution_count": 9,
   "id": "d95fa175",
   "metadata": {},
   "outputs": [],
   "source": [
    "script_data['2023-06-13 09:30:00'] = {'1. open': '100.0', '2. high': '101.0', '3. low': '99.5', '4. close': '100.5', '5. volume': '10000'}"
   ]
  },
  {
   "cell_type": "code",
   "execution_count": 10,
   "id": "6e8832e4",
   "metadata": {},
   "outputs": [
    {
     "name": "stdout",
     "output_type": "stream",
     "text": [
      "True\n"
     ]
    }
   ],
   "source": [
    "print('2023-06-13 09:30:00' in script_data)"
   ]
  },
  {
   "cell_type": "code",
   "execution_count": null,
   "id": "34811444",
   "metadata": {},
   "outputs": [],
   "source": []
  }
 ],
 "metadata": {
  "kernelspec": {
   "display_name": "Python 3 (ipykernel)",
   "language": "python",
   "name": "python3"
  },
  "language_info": {
   "codemirror_mode": {
    "name": "ipython",
    "version": 3
   },
   "file_extension": ".py",
   "mimetype": "text/x-python",
   "name": "python",
   "nbconvert_exporter": "python",
   "pygments_lexer": "ipython3",
   "version": "3.10.9"
  }
 },
 "nbformat": 4,
 "nbformat_minor": 5
}
